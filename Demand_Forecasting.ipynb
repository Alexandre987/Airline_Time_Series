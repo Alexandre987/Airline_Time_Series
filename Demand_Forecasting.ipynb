{
 "cells": [
  {
   "cell_type": "code",
   "execution_count": 301,
   "metadata": {},
   "outputs": [],
   "source": [
    "import numpy as np\n",
    "import pandas as pd\n",
    "import matplotlib.pyplot as plt\n",
    "\n",
    "%matplotlib inline\n",
    "\n",
    "pd.options.display.max_rows = 30"
   ]
  },
  {
   "cell_type": "code",
   "execution_count": 302,
   "metadata": {},
   "outputs": [],
   "source": [
    "df = pd.read_csv('Air_Traffic_Passenger_Statistics.csv')"
   ]
  },
  {
   "cell_type": "code",
   "execution_count": 303,
   "metadata": {},
   "outputs": [
    {
     "data": {
      "text/html": [
       "<div>\n",
       "<style scoped>\n",
       "    .dataframe tbody tr th:only-of-type {\n",
       "        vertical-align: middle;\n",
       "    }\n",
       "\n",
       "    .dataframe tbody tr th {\n",
       "        vertical-align: top;\n",
       "    }\n",
       "\n",
       "    .dataframe thead th {\n",
       "        text-align: right;\n",
       "    }\n",
       "</style>\n",
       "<table border=\"1\" class=\"dataframe\">\n",
       "  <thead>\n",
       "    <tr style=\"text-align: right;\">\n",
       "      <th></th>\n",
       "      <th>Activity Period</th>\n",
       "      <th>Operating Airline</th>\n",
       "      <th>Operating Airline IATA Code</th>\n",
       "      <th>Published Airline</th>\n",
       "      <th>Published Airline IATA Code</th>\n",
       "      <th>GEO Summary</th>\n",
       "      <th>GEO Region</th>\n",
       "      <th>Activity Type Code</th>\n",
       "      <th>Price Category Code</th>\n",
       "      <th>Terminal</th>\n",
       "      <th>Boarding Area</th>\n",
       "      <th>Passenger Count</th>\n",
       "    </tr>\n",
       "  </thead>\n",
       "  <tbody>\n",
       "    <tr>\n",
       "      <th>0</th>\n",
       "      <td>201903</td>\n",
       "      <td>Japan Airlines</td>\n",
       "      <td>JL</td>\n",
       "      <td>Japan Airlines</td>\n",
       "      <td>JL</td>\n",
       "      <td>International</td>\n",
       "      <td>Asia</td>\n",
       "      <td>Enplaned</td>\n",
       "      <td>Other</td>\n",
       "      <td>International</td>\n",
       "      <td>A</td>\n",
       "      <td>6995</td>\n",
       "    </tr>\n",
       "    <tr>\n",
       "      <th>1</th>\n",
       "      <td>201903</td>\n",
       "      <td>Virgin Atlantic</td>\n",
       "      <td>VS</td>\n",
       "      <td>Virgin Atlantic</td>\n",
       "      <td>VS</td>\n",
       "      <td>International</td>\n",
       "      <td>Europe</td>\n",
       "      <td>Enplaned</td>\n",
       "      <td>Other</td>\n",
       "      <td>International</td>\n",
       "      <td>A</td>\n",
       "      <td>12172</td>\n",
       "    </tr>\n",
       "    <tr>\n",
       "      <th>2</th>\n",
       "      <td>201903</td>\n",
       "      <td>Virgin Atlantic</td>\n",
       "      <td>VS</td>\n",
       "      <td>Virgin Atlantic</td>\n",
       "      <td>VS</td>\n",
       "      <td>International</td>\n",
       "      <td>Europe</td>\n",
       "      <td>Deplaned</td>\n",
       "      <td>Other</td>\n",
       "      <td>International</td>\n",
       "      <td>A</td>\n",
       "      <td>11496</td>\n",
       "    </tr>\n",
       "    <tr>\n",
       "      <th>3</th>\n",
       "      <td>201903</td>\n",
       "      <td>United Airlines</td>\n",
       "      <td>UA</td>\n",
       "      <td>United Airlines</td>\n",
       "      <td>UA</td>\n",
       "      <td>International</td>\n",
       "      <td>Middle East</td>\n",
       "      <td>Enplaned</td>\n",
       "      <td>Other</td>\n",
       "      <td>International</td>\n",
       "      <td>G</td>\n",
       "      <td>7473</td>\n",
       "    </tr>\n",
       "    <tr>\n",
       "      <th>4</th>\n",
       "      <td>201903</td>\n",
       "      <td>United Airlines</td>\n",
       "      <td>UA</td>\n",
       "      <td>United Airlines</td>\n",
       "      <td>UA</td>\n",
       "      <td>International</td>\n",
       "      <td>Middle East</td>\n",
       "      <td>Deplaned</td>\n",
       "      <td>Other</td>\n",
       "      <td>International</td>\n",
       "      <td>G</td>\n",
       "      <td>6857</td>\n",
       "    </tr>\n",
       "  </tbody>\n",
       "</table>\n",
       "</div>"
      ],
      "text/plain": [
       "   Activity Period Operating Airline Operating Airline IATA Code  \\\n",
       "0           201903    Japan Airlines                          JL   \n",
       "1           201903   Virgin Atlantic                          VS   \n",
       "2           201903   Virgin Atlantic                          VS   \n",
       "3           201903   United Airlines                          UA   \n",
       "4           201903   United Airlines                          UA   \n",
       "\n",
       "  Published Airline Published Airline IATA Code    GEO Summary   GEO Region  \\\n",
       "0    Japan Airlines                          JL  International         Asia   \n",
       "1   Virgin Atlantic                          VS  International       Europe   \n",
       "2   Virgin Atlantic                          VS  International       Europe   \n",
       "3   United Airlines                          UA  International  Middle East   \n",
       "4   United Airlines                          UA  International  Middle East   \n",
       "\n",
       "  Activity Type Code Price Category Code       Terminal Boarding Area  \\\n",
       "0           Enplaned               Other  International             A   \n",
       "1           Enplaned               Other  International             A   \n",
       "2           Deplaned               Other  International             A   \n",
       "3           Enplaned               Other  International             G   \n",
       "4           Deplaned               Other  International             G   \n",
       "\n",
       "   Passenger Count  \n",
       "0             6995  \n",
       "1            12172  \n",
       "2            11496  \n",
       "3             7473  \n",
       "4             6857  "
      ]
     },
     "execution_count": 303,
     "metadata": {},
     "output_type": "execute_result"
    }
   ],
   "source": [
    "df.head()"
   ]
  },
  {
   "cell_type": "code",
   "execution_count": 304,
   "metadata": {
    "scrolled": true
   },
   "outputs": [
    {
     "data": {
      "text/plain": [
       "Terminal\n",
       "International    162754209\n",
       "Other                  200\n",
       "Terminal 1       139649684\n",
       "Terminal 2        61338607\n",
       "Terminal 3       242822759\n",
       "Name: Passenger Count, dtype: int64"
      ]
     },
     "execution_count": 304,
     "metadata": {},
     "output_type": "execute_result"
    }
   ],
   "source": [
    "df.groupby('Terminal').sum()['Passenger Count']"
   ]
  },
  {
   "cell_type": "code",
   "execution_count": 305,
   "metadata": {},
   "outputs": [
    {
     "data": {
      "text/plain": [
       "(20256, 12)"
      ]
     },
     "execution_count": 305,
     "metadata": {},
     "output_type": "execute_result"
    }
   ],
   "source": [
    "df.shape"
   ]
  },
  {
   "cell_type": "code",
   "execution_count": 306,
   "metadata": {},
   "outputs": [],
   "source": [
    "# Dropping nulls that I found in columns - only a few\n",
    "df.dropna(inplace = True)"
   ]
  },
  {
   "cell_type": "code",
   "execution_count": 307,
   "metadata": {},
   "outputs": [
    {
     "data": {
      "text/plain": [
       "Index(['Activity Period', 'Operating Airline', 'Operating Airline IATA Code',\n",
       "       'Published Airline', 'Published Airline IATA Code', 'GEO Summary',\n",
       "       'GEO Region', 'Activity Type Code', 'Price Category Code', 'Terminal',\n",
       "       'Boarding Area', 'Passenger Count'],\n",
       "      dtype='object')"
      ]
     },
     "execution_count": 307,
     "metadata": {},
     "output_type": "execute_result"
    }
   ],
   "source": [
    "df.columns"
   ]
  },
  {
   "cell_type": "code",
   "execution_count": 308,
   "metadata": {},
   "outputs": [
    {
     "data": {
      "image/png": "[encoded data removed]",
      "text/plain": [
       "<Figure size 1080x576 with 1 Axes>"
      ]
     },
     "metadata": {
      "needs_background": "light"
     },
     "output_type": "display_data"
    }
   ],
   "source": [
    "# Plotting one airline's flights against time to see how the time series look\n",
    "\n",
    "df_explore_virgin = df[(df['Operating Airline'] == 'Virgin Atlantic')  & (df['Activity Type Code'] == 'Enplaned')]\n",
    "\n",
    "# Plot of passengers leaving SFO on Virgin Atlantic\n",
    "plt.figure(figsize = (15,8))\n",
    "plt.plot(df_explore_virgin['Activity Period'], df_explore_virgin['Passenger Count']);"
   ]
  },
  {
   "cell_type": "code",
   "execution_count": 309,
   "metadata": {},
   "outputs": [
    {
     "data": {
      "image/png": "[encoded data removed]",
      "text/plain": [
       "<Figure size 1080x576 with 1 Axes>"
      ]
     },
     "metadata": {
      "needs_background": "light"
     },
     "output_type": "display_data"
    }
   ],
   "source": [
    "df_explore = df[df['Activity Type Code'] == 'Enplaned'].groupby('Activity Period').sum()\n",
    "\n",
    "df_explore = df_explore[df_explore.index >= 201800]\n",
    "\n",
    "# Zoomed-in version shows that it is interpreting the difference between \"201812\" and \"201901\" incorrectly\n",
    "plt.figure(figsize = (15,8))\n",
    "plt.plot(df_explore.index, df_explore['Passenger Count']);"
   ]
  },
  {
   "cell_type": "raw",
   "metadata": {},
   "source": [
    "# Creating year and month columns by iterating through year-month combo int that is in \"Activity Period\"\n",
    "df['year'] = df['Activity Period'].apply(lambda x: str(x)[:4]).astype(int)\n",
    "df['month'] = df['Activity Period'].apply(lambda x: str(x)[-2:]).astype(int)\n",
    "\n",
    "df.drop(columns = ['year', 'month'], inplace = True)"
   ]
  },
  {
   "cell_type": "markdown",
   "metadata": {},
   "source": [
    "# Data Cleaning"
   ]
  },
  {
   "cell_type": "code",
   "execution_count": 310,
   "metadata": {},
   "outputs": [],
   "source": [
    "df['date'] = pd.to_datetime(df['Activity Period'], format = '%Y%m')"
   ]
  },
  {
   "cell_type": "code",
   "execution_count": 312,
   "metadata": {},
   "outputs": [],
   "source": [
    "# Eliminating rows that account for passengers in layovers. Don't care about those\n",
    "df.set_index('Activity Type Code', inplace = True)\n",
    "df.drop(index = 'Thru / Transit', inplace = True)"
   ]
  },
  {
   "cell_type": "code",
   "execution_count": 313,
   "metadata": {},
   "outputs": [],
   "source": [
    "# Changing the index to dates so that I can use time-series unique functions like pd.resample()\n",
    "df.reset_index(inplace = True)\n",
    "df.set_index('date', inplace = True)\n",
    "\n",
    "# Dropping the no longer useful column that we derived dates from\n",
    "df.drop(columns = 'Activity Period', inplace = True)"
   ]
  },
  {
   "cell_type": "markdown",
   "metadata": {},
   "source": [
    "## Next up: I need to group by the proper types so I can get \"enplaned\" and \"deplaned\" trends, and conduct separate time series analysis on them"
   ]
  },
  {
   "cell_type": "code",
   "execution_count": 314,
   "metadata": {},
   "outputs": [
    {
     "data": {
      "image/png": "[encoded data removed]",
      "text/plain": [
       "<Figure size 864x432 with 1 Axes>"
      ]
     },
     "metadata": {
      "needs_background": "light"
     },
     "output_type": "display_data"
    }
   ],
   "source": [
    "df_explore_virgin = df[(df['Operating Airline'] == 'Virgin Atlantic')  & (df['Activity Type Code'] == 'Enplaned')]\n",
    "\n",
    "# Improved plot of Virgin Atlantic after datetime was fixed\n",
    "plt.figure(figsize = (12,6))\n",
    "plt.plot(df_explore_virgin.index, df_explore_virgin['Passenger Count']);"
   ]
  },
  {
   "cell_type": "code",
   "execution_count": 315,
   "metadata": {},
   "outputs": [
    {
     "data": {
      "image/png": "[encoded data removed]",
      "text/plain": [
       "<Figure size 864x432 with 1 Axes>"
      ]
     },
     "metadata": {
      "needs_background": "light"
     },
     "output_type": "display_data"
    }
   ],
   "source": [
    "df_explore = df[df['Activity Type Code'] == 'Enplaned'].groupby('date').sum()\n",
    "\n",
    "# Improved plot of total air traffic after datetime was fixed\n",
    "\n",
    "plt.figure(figsize = (12,6))\n",
    "plt.plot(df_explore.index, df_explore['Passenger Count']);"
   ]
  },
  {
   "cell_type": "markdown",
   "metadata": {},
   "source": [
    "### I will choose to not use moving averages for the above, since my data is on the month level, I do not want to smooth further than the level of the month"
   ]
  },
  {
   "cell_type": "markdown",
   "metadata": {},
   "source": [
    "I might need to use multiplicative seasonality in this case, since the amplitude of the seasonal trends is increasing with the increase in number of passengers"
   ]
  },
  {
   "cell_type": "markdown",
   "metadata": {},
   "source": [
    "What is the difference between an \"Operating Airline\" and a \"Published Airline\"?"
   ]
  },
  {
   "cell_type": "code",
   "execution_count": 316,
   "metadata": {},
   "outputs": [
    {
     "data": {
      "text/plain": [
       "United Airlines                     1718\n",
       "United Airlines - Pre 07/01/2013    1577\n",
       "SkyWest Airlines                    1292\n",
       "Alaska Airlines                      820\n",
       "Virgin America                       462\n",
       "Delta Air Lines                      446\n",
       "Air Canada                           438\n",
       "American Airlines                    416\n",
       "JetBlue Airways                      337\n",
       "Sun Country Airlines                 335\n",
       "Frontier Airlines                    332\n",
       "Air China                            331\n",
       "Air New Zealand                      331\n",
       "TACA                                 330\n",
       "British Airways                      330\n",
       "                                    ... \n",
       "Atlantic Southeast Airlines           22\n",
       "Ameriflight                           21\n",
       "Icelandair                            20\n",
       "Icelandair EHF                        20\n",
       "BelAir Airlines                       20\n",
       "Jet Airways                           16\n",
       "Allegiant Air                         16\n",
       "Miami Air International               16\n",
       "Air Canada Jazz                       14\n",
       "Independence Air                      10\n",
       "World Airways                          3\n",
       "Norwegian Air UK Ltd                   2\n",
       "Xtra Airways                           2\n",
       "Evergreen International Airlines       2\n",
       "Atlas Air, Inc                         1\n",
       "Name: Operating Airline, Length: 85, dtype: int64"
      ]
     },
     "execution_count": 316,
     "metadata": {},
     "output_type": "execute_result"
    }
   ],
   "source": [
    "df['Operating Airline'].value_counts()"
   ]
  },
  {
   "cell_type": "code",
   "execution_count": 317,
   "metadata": {},
   "outputs": [
    {
     "data": {
      "text/plain": [
       "United Airlines                     2114\n",
       "United Airlines - Pre 07/01/2013    2068\n",
       "Alaska Airlines                     1178\n",
       "Delta Air Lines                      990\n",
       "American Airlines                    660\n",
       "Air Canada                           520\n",
       "Virgin America                       462\n",
       "US Airways                           407\n",
       "JetBlue Airways                      337\n",
       "Sun Country Airlines                 335\n",
       "Frontier Airlines                    332\n",
       "Air New Zealand                      331\n",
       "Air China                            331\n",
       "TACA                                 330\n",
       "British Airways                      330\n",
       "                                    ... \n",
       "Finnair                               24\n",
       "Republic Airlines                     24\n",
       "Ameriflight                           21\n",
       "BelAir Airlines                       20\n",
       "Icelandair                            20\n",
       "Icelandair EHF                        20\n",
       "Allegiant Air                         16\n",
       "Miami Air International               16\n",
       "Jet Airways                           16\n",
       "Independence Air                      10\n",
       "World Airways                          3\n",
       "Xtra Airways                           2\n",
       "Norwegian Air UK Ltd                   2\n",
       "Evergreen International Airlines       2\n",
       "Atlas Air, Inc                         1\n",
       "Name: Published Airline, Length: 75, dtype: int64"
      ]
     },
     "execution_count": 317,
     "metadata": {},
     "output_type": "execute_result"
    }
   ],
   "source": [
    "df['Published Airline'].value_counts()"
   ]
  },
  {
   "cell_type": "markdown",
   "metadata": {},
   "source": [
    "I will use Operating Airlines since that indicates who is actually flying the flight. The Published Airline is the one who is publishing the flight, and Operating is the one who is actually flying it. I care more about operations in this project than marketing, so I will stay with who operates it"
   ]
  },
  {
   "cell_type": "code",
   "execution_count": 318,
   "metadata": {},
   "outputs": [
    {
     "data": {
      "text/html": [
       "<div>\n",
       "<style scoped>\n",
       "    .dataframe tbody tr th:only-of-type {\n",
       "        vertical-align: middle;\n",
       "    }\n",
       "\n",
       "    .dataframe tbody tr th {\n",
       "        vertical-align: top;\n",
       "    }\n",
       "\n",
       "    .dataframe thead th {\n",
       "        text-align: right;\n",
       "    }\n",
       "</style>\n",
       "<table border=\"1\" class=\"dataframe\">\n",
       "  <thead>\n",
       "    <tr style=\"text-align: right;\">\n",
       "      <th></th>\n",
       "      <th></th>\n",
       "      <th>Passenger Count</th>\n",
       "    </tr>\n",
       "    <tr>\n",
       "      <th>date</th>\n",
       "      <th>Activity Type Code</th>\n",
       "      <th></th>\n",
       "    </tr>\n",
       "  </thead>\n",
       "  <tbody>\n",
       "    <tr>\n",
       "      <th rowspan=\"2\" valign=\"top\">2005-07-01</th>\n",
       "      <th>Deplaned</th>\n",
       "      <td>1627329</td>\n",
       "    </tr>\n",
       "    <tr>\n",
       "      <th>Enplaned</th>\n",
       "      <td>1569412</td>\n",
       "    </tr>\n",
       "    <tr>\n",
       "      <th rowspan=\"2\" valign=\"top\">2005-08-01</th>\n",
       "      <th>Deplaned</th>\n",
       "      <td>1614450</td>\n",
       "    </tr>\n",
       "    <tr>\n",
       "      <th>Enplaned</th>\n",
       "      <td>1553146</td>\n",
       "    </tr>\n",
       "    <tr>\n",
       "      <th rowspan=\"2\" valign=\"top\">2005-09-01</th>\n",
       "      <th>Deplaned</th>\n",
       "      <td>1353447</td>\n",
       "    </tr>\n",
       "    <tr>\n",
       "      <th>Enplaned</th>\n",
       "      <td>1363140</td>\n",
       "    </tr>\n",
       "    <tr>\n",
       "      <th rowspan=\"2\" valign=\"top\">2005-10-01</th>\n",
       "      <th>Deplaned</th>\n",
       "      <td>1358128</td>\n",
       "    </tr>\n",
       "    <tr>\n",
       "      <th>Enplaned</th>\n",
       "      <td>1384822</td>\n",
       "    </tr>\n",
       "    <tr>\n",
       "      <th rowspan=\"2\" valign=\"top\">2005-11-01</th>\n",
       "      <th>Deplaned</th>\n",
       "      <td>1291602</td>\n",
       "    </tr>\n",
       "    <tr>\n",
       "      <th>Enplaned</th>\n",
       "      <td>1304433</td>\n",
       "    </tr>\n",
       "    <tr>\n",
       "      <th rowspan=\"2\" valign=\"top\">2005-12-01</th>\n",
       "      <th>Deplaned</th>\n",
       "      <td>1297510</td>\n",
       "    </tr>\n",
       "    <tr>\n",
       "      <th>Enplaned</th>\n",
       "      <td>1350000</td>\n",
       "    </tr>\n",
       "    <tr>\n",
       "      <th rowspan=\"2\" valign=\"top\">2006-01-01</th>\n",
       "      <th>Deplaned</th>\n",
       "      <td>1243753</td>\n",
       "    </tr>\n",
       "    <tr>\n",
       "      <th>Enplaned</th>\n",
       "      <td>1182313</td>\n",
       "    </tr>\n",
       "    <tr>\n",
       "      <th>2006-02-01</th>\n",
       "      <th>Deplaned</th>\n",
       "      <td>1104323</td>\n",
       "    </tr>\n",
       "    <tr>\n",
       "      <th>...</th>\n",
       "      <th>...</th>\n",
       "      <td>...</td>\n",
       "    </tr>\n",
       "    <tr>\n",
       "      <th>2018-08-01</th>\n",
       "      <th>Enplaned</th>\n",
       "      <td>2740357</td>\n",
       "    </tr>\n",
       "    <tr>\n",
       "      <th rowspan=\"2\" valign=\"top\">2018-09-01</th>\n",
       "      <th>Deplaned</th>\n",
       "      <td>2340188</td>\n",
       "    </tr>\n",
       "    <tr>\n",
       "      <th>Enplaned</th>\n",
       "      <td>2302919</td>\n",
       "    </tr>\n",
       "    <tr>\n",
       "      <th rowspan=\"2\" valign=\"top\">2018-10-01</th>\n",
       "      <th>Deplaned</th>\n",
       "      <td>2425591</td>\n",
       "    </tr>\n",
       "    <tr>\n",
       "      <th>Enplaned</th>\n",
       "      <td>2430076</td>\n",
       "    </tr>\n",
       "    <tr>\n",
       "      <th rowspan=\"2\" valign=\"top\">2018-11-01</th>\n",
       "      <th>Deplaned</th>\n",
       "      <td>2258229</td>\n",
       "    </tr>\n",
       "    <tr>\n",
       "      <th>Enplaned</th>\n",
       "      <td>2245913</td>\n",
       "    </tr>\n",
       "    <tr>\n",
       "      <th rowspan=\"2\" valign=\"top\">2018-12-01</th>\n",
       "      <th>Deplaned</th>\n",
       "      <td>2235904</td>\n",
       "    </tr>\n",
       "    <tr>\n",
       "      <th>Enplaned</th>\n",
       "      <td>2336093</td>\n",
       "    </tr>\n",
       "    <tr>\n",
       "      <th rowspan=\"2\" valign=\"top\">2019-01-01</th>\n",
       "      <th>Deplaned</th>\n",
       "      <td>2148066</td>\n",
       "    </tr>\n",
       "    <tr>\n",
       "      <th>Enplaned</th>\n",
       "      <td>2003649</td>\n",
       "    </tr>\n",
       "    <tr>\n",
       "      <th rowspan=\"2\" valign=\"top\">2019-02-01</th>\n",
       "      <th>Deplaned</th>\n",
       "      <td>1875859</td>\n",
       "    </tr>\n",
       "    <tr>\n",
       "      <th>Enplaned</th>\n",
       "      <td>1873694</td>\n",
       "    </tr>\n",
       "    <tr>\n",
       "      <th rowspan=\"2\" valign=\"top\">2019-03-01</th>\n",
       "      <th>Deplaned</th>\n",
       "      <td>2278985</td>\n",
       "    </tr>\n",
       "    <tr>\n",
       "      <th>Enplaned</th>\n",
       "      <td>2316520</td>\n",
       "    </tr>\n",
       "  </tbody>\n",
       "</table>\n",
       "<p>330 rows × 1 columns</p>\n",
       "</div>"
      ],
      "text/plain": [
       "                               Passenger Count\n",
       "date       Activity Type Code                 \n",
       "2005-07-01 Deplaned                    1627329\n",
       "           Enplaned                    1569412\n",
       "2005-08-01 Deplaned                    1614450\n",
       "           Enplaned                    1553146\n",
       "2005-09-01 Deplaned                    1353447\n",
       "           Enplaned                    1363140\n",
       "2005-10-01 Deplaned                    1358128\n",
       "           Enplaned                    1384822\n",
       "2005-11-01 Deplaned                    1291602\n",
       "           Enplaned                    1304433\n",
       "2005-12-01 Deplaned                    1297510\n",
       "           Enplaned                    1350000\n",
       "2006-01-01 Deplaned                    1243753\n",
       "           Enplaned                    1182313\n",
       "2006-02-01 Deplaned                    1104323\n",
       "...                                        ...\n",
       "2018-08-01 Enplaned                    2740357\n",
       "2018-09-01 Deplaned                    2340188\n",
       "           Enplaned                    2302919\n",
       "2018-10-01 Deplaned                    2425591\n",
       "           Enplaned                    2430076\n",
       "2018-11-01 Deplaned                    2258229\n",
       "           Enplaned                    2245913\n",
       "2018-12-01 Deplaned                    2235904\n",
       "           Enplaned                    2336093\n",
       "2019-01-01 Deplaned                    2148066\n",
       "           Enplaned                    2003649\n",
       "2019-02-01 Deplaned                    1875859\n",
       "           Enplaned                    1873694\n",
       "2019-03-01 Deplaned                    2278985\n",
       "           Enplaned                    2316520\n",
       "\n",
       "[330 rows x 1 columns]"
      ]
     },
     "execution_count": 318,
     "metadata": {},
     "output_type": "execute_result"
    }
   ],
   "source": [
    "df.groupby([df.index, 'Activity Type Code']).sum()"
   ]
  },
  {
   "cell_type": "code",
   "execution_count": 319,
   "metadata": {},
   "outputs": [],
   "source": [
    "# gb_month = \"grouped by month\"\n",
    "gb_month = df.resample('M').sum()"
   ]
  },
  {
   "cell_type": "code",
   "execution_count": 320,
   "metadata": {
    "scrolled": true
   },
   "outputs": [
    {
     "data": {
      "text/plain": [
       "0.9834914614470184"
      ]
     },
     "execution_count": 320,
     "metadata": {},
     "output_type": "execute_result"
    }
   ],
   "source": [
    "# Autocorrelation across all airlines is very close to 1\n",
    "gb_month['Passenger Count'].autocorr(lag = 12)"
   ]
  },
  {
   "cell_type": "code",
   "execution_count": 321,
   "metadata": {},
   "outputs": [
    {
     "data": {
      "text/plain": [
       "(2218, 11)"
      ]
     },
     "execution_count": 321,
     "metadata": {},
     "output_type": "execute_result"
    }
   ],
   "source": [
    "# Shows that Operating Airline is different from Published Airline ~2000 times: 1/10 of the time in my df\n",
    "df[df['Operating Airline'] != df['Published Airline']].shape"
   ]
  },
  {
   "cell_type": "code",
   "execution_count": 322,
   "metadata": {},
   "outputs": [
    {
     "data": {
      "text/html": [
       "<div>\n",
       "<style scoped>\n",
       "    .dataframe tbody tr th:only-of-type {\n",
       "        vertical-align: middle;\n",
       "    }\n",
       "\n",
       "    .dataframe tbody tr th {\n",
       "        vertical-align: top;\n",
       "    }\n",
       "\n",
       "    .dataframe thead th {\n",
       "        text-align: right;\n",
       "    }\n",
       "</style>\n",
       "<table border=\"1\" class=\"dataframe\">\n",
       "  <thead>\n",
       "    <tr style=\"text-align: right;\">\n",
       "      <th></th>\n",
       "      <th>Passenger Count</th>\n",
       "    </tr>\n",
       "    <tr>\n",
       "      <th>date</th>\n",
       "      <th></th>\n",
       "    </tr>\n",
       "  </thead>\n",
       "  <tbody>\n",
       "    <tr>\n",
       "      <th>2005-07-31</th>\n",
       "      <td>3196741</td>\n",
       "    </tr>\n",
       "    <tr>\n",
       "      <th>2005-08-31</th>\n",
       "      <td>3167596</td>\n",
       "    </tr>\n",
       "    <tr>\n",
       "      <th>2005-09-30</th>\n",
       "      <td>2716587</td>\n",
       "    </tr>\n",
       "    <tr>\n",
       "      <th>2005-10-31</th>\n",
       "      <td>2742950</td>\n",
       "    </tr>\n",
       "    <tr>\n",
       "      <th>2005-11-30</th>\n",
       "      <td>2596035</td>\n",
       "    </tr>\n",
       "    <tr>\n",
       "      <th>2005-12-31</th>\n",
       "      <td>2647510</td>\n",
       "    </tr>\n",
       "    <tr>\n",
       "      <th>2006-01-31</th>\n",
       "      <td>2426066</td>\n",
       "    </tr>\n",
       "    <tr>\n",
       "      <th>2006-02-28</th>\n",
       "      <td>2198793</td>\n",
       "    </tr>\n",
       "    <tr>\n",
       "      <th>2006-03-31</th>\n",
       "      <td>2678826</td>\n",
       "    </tr>\n",
       "    <tr>\n",
       "      <th>2006-04-30</th>\n",
       "      <td>2754173</td>\n",
       "    </tr>\n",
       "    <tr>\n",
       "      <th>2006-05-31</th>\n",
       "      <td>2811600</td>\n",
       "    </tr>\n",
       "    <tr>\n",
       "      <th>2006-06-30</th>\n",
       "      <td>3050955</td>\n",
       "    </tr>\n",
       "    <tr>\n",
       "      <th>2006-07-31</th>\n",
       "      <td>3206302</td>\n",
       "    </tr>\n",
       "    <tr>\n",
       "      <th>2006-08-31</th>\n",
       "      <td>3122652</td>\n",
       "    </tr>\n",
       "    <tr>\n",
       "      <th>2006-09-30</th>\n",
       "      <td>2701881</td>\n",
       "    </tr>\n",
       "    <tr>\n",
       "      <th>...</th>\n",
       "      <td>...</td>\n",
       "    </tr>\n",
       "    <tr>\n",
       "      <th>2018-01-31</th>\n",
       "      <td>4189091</td>\n",
       "    </tr>\n",
       "    <tr>\n",
       "      <th>2018-02-28</th>\n",
       "      <td>3881757</td>\n",
       "    </tr>\n",
       "    <tr>\n",
       "      <th>2018-03-31</th>\n",
       "      <td>4673109</td>\n",
       "    </tr>\n",
       "    <tr>\n",
       "      <th>2018-04-30</th>\n",
       "      <td>4711836</td>\n",
       "    </tr>\n",
       "    <tr>\n",
       "      <th>2018-05-31</th>\n",
       "      <td>5023401</td>\n",
       "    </tr>\n",
       "    <tr>\n",
       "      <th>2018-06-30</th>\n",
       "      <td>5422020</td>\n",
       "    </tr>\n",
       "    <tr>\n",
       "      <th>2018-07-31</th>\n",
       "      <td>5685069</td>\n",
       "    </tr>\n",
       "    <tr>\n",
       "      <th>2018-08-31</th>\n",
       "      <td>5539139</td>\n",
       "    </tr>\n",
       "    <tr>\n",
       "      <th>2018-09-30</th>\n",
       "      <td>4643107</td>\n",
       "    </tr>\n",
       "    <tr>\n",
       "      <th>2018-10-31</th>\n",
       "      <td>4855667</td>\n",
       "    </tr>\n",
       "    <tr>\n",
       "      <th>2018-11-30</th>\n",
       "      <td>4504142</td>\n",
       "    </tr>\n",
       "    <tr>\n",
       "      <th>2018-12-31</th>\n",
       "      <td>4571997</td>\n",
       "    </tr>\n",
       "    <tr>\n",
       "      <th>2019-01-31</th>\n",
       "      <td>4151715</td>\n",
       "    </tr>\n",
       "    <tr>\n",
       "      <th>2019-02-28</th>\n",
       "      <td>3749553</td>\n",
       "    </tr>\n",
       "    <tr>\n",
       "      <th>2019-03-31</th>\n",
       "      <td>4595505</td>\n",
       "    </tr>\n",
       "  </tbody>\n",
       "</table>\n",
       "<p>165 rows × 1 columns</p>\n",
       "</div>"
      ],
      "text/plain": [
       "            Passenger Count\n",
       "date                       \n",
       "2005-07-31          3196741\n",
       "2005-08-31          3167596\n",
       "2005-09-30          2716587\n",
       "2005-10-31          2742950\n",
       "2005-11-30          2596035\n",
       "2005-12-31          2647510\n",
       "2006-01-31          2426066\n",
       "2006-02-28          2198793\n",
       "2006-03-31          2678826\n",
       "2006-04-30          2754173\n",
       "2006-05-31          2811600\n",
       "2006-06-30          3050955\n",
       "2006-07-31          3206302\n",
       "2006-08-31          3122652\n",
       "2006-09-30          2701881\n",
       "...                     ...\n",
       "2018-01-31          4189091\n",
       "2018-02-28          3881757\n",
       "2018-03-31          4673109\n",
       "2018-04-30          4711836\n",
       "2018-05-31          5023401\n",
       "2018-06-30          5422020\n",
       "2018-07-31          5685069\n",
       "2018-08-31          5539139\n",
       "2018-09-30          4643107\n",
       "2018-10-31          4855667\n",
       "2018-11-30          4504142\n",
       "2018-12-31          4571997\n",
       "2019-01-31          4151715\n",
       "2019-02-28          3749553\n",
       "2019-03-31          4595505\n",
       "\n",
       "[165 rows x 1 columns]"
      ]
     },
     "execution_count": 322,
     "metadata": {},
     "output_type": "execute_result"
    }
   ],
   "source": [
    "gb_month"
   ]
  },
  {
   "cell_type": "code",
   "execution_count": 323,
   "metadata": {},
   "outputs": [
    {
     "data": {
      "text/plain": [
       "(0, 60)"
      ]
     },
     "execution_count": 323,
     "metadata": {},
     "output_type": "execute_result"
    },
    {
     "data": {
      "image/png": "[encoded data removed]",
      "text/plain": [
       "<Figure size 1080x432 with 1 Axes>"
      ]
     },
     "metadata": {
      "needs_background": "light"
     },
     "output_type": "display_data"
    }
   ],
   "source": [
    "# We definitely have autocorrelation - peaking at the 12 month mark and the 1 month mark\n",
    "plt.figure(figsize = (15,6))\n",
    "pd.plotting.autocorrelation_plot(gb_month)\n",
    "plt.xlim(0,60)"
   ]
  },
  {
   "cell_type": "markdown",
   "metadata": {},
   "source": [
    "## Differencing"
   ]
  },
  {
   "cell_type": "code",
   "execution_count": 324,
   "metadata": {},
   "outputs": [
    {
     "data": {
      "text/html": [
       "<div>\n",
       "<style scoped>\n",
       "    .dataframe tbody tr th:only-of-type {\n",
       "        vertical-align: middle;\n",
       "    }\n",
       "\n",
       "    .dataframe tbody tr th {\n",
       "        vertical-align: top;\n",
       "    }\n",
       "\n",
       "    .dataframe thead th {\n",
       "        text-align: right;\n",
       "    }\n",
       "</style>\n",
       "<table border=\"1\" class=\"dataframe\">\n",
       "  <thead>\n",
       "    <tr style=\"text-align: right;\">\n",
       "      <th></th>\n",
       "      <th>Passenger Count</th>\n",
       "    </tr>\n",
       "    <tr>\n",
       "      <th>date</th>\n",
       "      <th></th>\n",
       "    </tr>\n",
       "  </thead>\n",
       "  <tbody>\n",
       "    <tr>\n",
       "      <th>2005-07-31</th>\n",
       "      <td>NaN</td>\n",
       "    </tr>\n",
       "    <tr>\n",
       "      <th>2005-08-31</th>\n",
       "      <td>NaN</td>\n",
       "    </tr>\n",
       "    <tr>\n",
       "      <th>2005-09-30</th>\n",
       "      <td>NaN</td>\n",
       "    </tr>\n",
       "    <tr>\n",
       "      <th>2005-10-31</th>\n",
       "      <td>NaN</td>\n",
       "    </tr>\n",
       "    <tr>\n",
       "      <th>2005-11-30</th>\n",
       "      <td>NaN</td>\n",
       "    </tr>\n",
       "    <tr>\n",
       "      <th>2005-12-31</th>\n",
       "      <td>NaN</td>\n",
       "    </tr>\n",
       "    <tr>\n",
       "      <th>2006-01-31</th>\n",
       "      <td>NaN</td>\n",
       "    </tr>\n",
       "    <tr>\n",
       "      <th>2006-02-28</th>\n",
       "      <td>NaN</td>\n",
       "    </tr>\n",
       "    <tr>\n",
       "      <th>2006-03-31</th>\n",
       "      <td>NaN</td>\n",
       "    </tr>\n",
       "    <tr>\n",
       "      <th>2006-04-30</th>\n",
       "      <td>NaN</td>\n",
       "    </tr>\n",
       "    <tr>\n",
       "      <th>2006-05-31</th>\n",
       "      <td>NaN</td>\n",
       "    </tr>\n",
       "    <tr>\n",
       "      <th>2006-06-30</th>\n",
       "      <td>NaN</td>\n",
       "    </tr>\n",
       "    <tr>\n",
       "      <th>2006-07-31</th>\n",
       "      <td>9561.0</td>\n",
       "    </tr>\n",
       "    <tr>\n",
       "      <th>2006-08-31</th>\n",
       "      <td>-44944.0</td>\n",
       "    </tr>\n",
       "    <tr>\n",
       "      <th>2006-09-30</th>\n",
       "      <td>-14706.0</td>\n",
       "    </tr>\n",
       "    <tr>\n",
       "      <th>...</th>\n",
       "      <td>...</td>\n",
       "    </tr>\n",
       "    <tr>\n",
       "      <th>2018-01-31</th>\n",
       "      <td>291468.0</td>\n",
       "    </tr>\n",
       "    <tr>\n",
       "      <th>2018-02-28</th>\n",
       "      <td>400427.0</td>\n",
       "    </tr>\n",
       "    <tr>\n",
       "      <th>2018-03-31</th>\n",
       "      <td>338169.0</td>\n",
       "    </tr>\n",
       "    <tr>\n",
       "      <th>2018-04-30</th>\n",
       "      <td>286491.0</td>\n",
       "    </tr>\n",
       "    <tr>\n",
       "      <th>2018-05-31</th>\n",
       "      <td>327501.0</td>\n",
       "    </tr>\n",
       "    <tr>\n",
       "      <th>2018-06-30</th>\n",
       "      <td>288538.0</td>\n",
       "    </tr>\n",
       "    <tr>\n",
       "      <th>2018-07-31</th>\n",
       "      <td>189856.0</td>\n",
       "    </tr>\n",
       "    <tr>\n",
       "      <th>2018-08-31</th>\n",
       "      <td>24209.0</td>\n",
       "    </tr>\n",
       "    <tr>\n",
       "      <th>2018-09-30</th>\n",
       "      <td>-92144.0</td>\n",
       "    </tr>\n",
       "    <tr>\n",
       "      <th>2018-10-31</th>\n",
       "      <td>-12405.0</td>\n",
       "    </tr>\n",
       "    <tr>\n",
       "      <th>2018-11-30</th>\n",
       "      <td>-67805.0</td>\n",
       "    </tr>\n",
       "    <tr>\n",
       "      <th>2018-12-31</th>\n",
       "      <td>-88318.0</td>\n",
       "    </tr>\n",
       "    <tr>\n",
       "      <th>2019-01-31</th>\n",
       "      <td>-37376.0</td>\n",
       "    </tr>\n",
       "    <tr>\n",
       "      <th>2019-02-28</th>\n",
       "      <td>-132204.0</td>\n",
       "    </tr>\n",
       "    <tr>\n",
       "      <th>2019-03-31</th>\n",
       "      <td>-77604.0</td>\n",
       "    </tr>\n",
       "  </tbody>\n",
       "</table>\n",
       "<p>165 rows × 1 columns</p>\n",
       "</div>"
      ],
      "text/plain": [
       "            Passenger Count\n",
       "date                       \n",
       "2005-07-31              NaN\n",
       "2005-08-31              NaN\n",
       "2005-09-30              NaN\n",
       "2005-10-31              NaN\n",
       "2005-11-30              NaN\n",
       "2005-12-31              NaN\n",
       "2006-01-31              NaN\n",
       "2006-02-28              NaN\n",
       "2006-03-31              NaN\n",
       "2006-04-30              NaN\n",
       "2006-05-31              NaN\n",
       "2006-06-30              NaN\n",
       "2006-07-31           9561.0\n",
       "2006-08-31         -44944.0\n",
       "2006-09-30         -14706.0\n",
       "...                     ...\n",
       "2018-01-31         291468.0\n",
       "2018-02-28         400427.0\n",
       "2018-03-31         338169.0\n",
       "2018-04-30         286491.0\n",
       "2018-05-31         327501.0\n",
       "2018-06-30         288538.0\n",
       "2018-07-31         189856.0\n",
       "2018-08-31          24209.0\n",
       "2018-09-30         -92144.0\n",
       "2018-10-31         -12405.0\n",
       "2018-11-30         -67805.0\n",
       "2018-12-31         -88318.0\n",
       "2019-01-31         -37376.0\n",
       "2019-02-28        -132204.0\n",
       "2019-03-31         -77604.0\n",
       "\n",
       "[165 rows x 1 columns]"
      ]
     },
     "execution_count": 324,
     "metadata": {},
     "output_type": "execute_result"
    }
   ],
   "source": [
    "diffs = gb_month.diff(periods=12)\n",
    "\n",
    "diffs"
   ]
  },
  {
   "cell_type": "code",
   "execution_count": 325,
   "metadata": {
    "scrolled": true
   },
   "outputs": [
    {
     "data": {
      "text/plain": [
       "Series([], Name: diff, dtype: int64)"
      ]
     },
     "execution_count": 325,
     "metadata": {},
     "output_type": "execute_result"
    }
   ],
   "source": [
    "# Subtract each month's passenger count by the previous year's, and drop the first year of nulls (2005-'06)\n",
    "df['diff'] = gb_month.diff(periods=12)\n",
    "\n",
    "# NOTE: Dropping data from late 2005 and early 2006 here, in order to keep my differencing\n",
    "#df.dropna(inplace = True)\n",
    "\n",
    "df['diff'].value_counts()"
   ]
  },
  {
   "cell_type": "code",
   "execution_count": 326,
   "metadata": {},
   "outputs": [
    {
     "data": {
      "text/html": [
       "<div>\n",
       "<style scoped>\n",
       "    .dataframe tbody tr th:only-of-type {\n",
       "        vertical-align: middle;\n",
       "    }\n",
       "\n",
       "    .dataframe tbody tr th {\n",
       "        vertical-align: top;\n",
       "    }\n",
       "\n",
       "    .dataframe thead th {\n",
       "        text-align: right;\n",
       "    }\n",
       "</style>\n",
       "<table border=\"1\" class=\"dataframe\">\n",
       "  <thead>\n",
       "    <tr style=\"text-align: right;\">\n",
       "      <th></th>\n",
       "      <th>Activity Type Code</th>\n",
       "      <th>Operating Airline</th>\n",
       "      <th>Operating Airline IATA Code</th>\n",
       "      <th>Published Airline</th>\n",
       "      <th>Published Airline IATA Code</th>\n",
       "      <th>GEO Summary</th>\n",
       "      <th>GEO Region</th>\n",
       "      <th>Price Category Code</th>\n",
       "      <th>Terminal</th>\n",
       "      <th>Boarding Area</th>\n",
       "      <th>Passenger Count</th>\n",
       "      <th>diff</th>\n",
       "    </tr>\n",
       "    <tr>\n",
       "      <th>date</th>\n",
       "      <th></th>\n",
       "      <th></th>\n",
       "      <th></th>\n",
       "      <th></th>\n",
       "      <th></th>\n",
       "      <th></th>\n",
       "      <th></th>\n",
       "      <th></th>\n",
       "      <th></th>\n",
       "      <th></th>\n",
       "      <th></th>\n",
       "      <th></th>\n",
       "    </tr>\n",
       "  </thead>\n",
       "  <tbody>\n",
       "    <tr>\n",
       "      <th>2019-03-01</th>\n",
       "      <td>Enplaned</td>\n",
       "      <td>Japan Airlines</td>\n",
       "      <td>JL</td>\n",
       "      <td>Japan Airlines</td>\n",
       "      <td>JL</td>\n",
       "      <td>International</td>\n",
       "      <td>Asia</td>\n",
       "      <td>Other</td>\n",
       "      <td>International</td>\n",
       "      <td>A</td>\n",
       "      <td>6995</td>\n",
       "      <td>NaN</td>\n",
       "    </tr>\n",
       "    <tr>\n",
       "      <th>2019-03-01</th>\n",
       "      <td>Enplaned</td>\n",
       "      <td>Virgin Atlantic</td>\n",
       "      <td>VS</td>\n",
       "      <td>Virgin Atlantic</td>\n",
       "      <td>VS</td>\n",
       "      <td>International</td>\n",
       "      <td>Europe</td>\n",
       "      <td>Other</td>\n",
       "      <td>International</td>\n",
       "      <td>A</td>\n",
       "      <td>12172</td>\n",
       "      <td>NaN</td>\n",
       "    </tr>\n",
       "    <tr>\n",
       "      <th>2019-03-01</th>\n",
       "      <td>Deplaned</td>\n",
       "      <td>Virgin Atlantic</td>\n",
       "      <td>VS</td>\n",
       "      <td>Virgin Atlantic</td>\n",
       "      <td>VS</td>\n",
       "      <td>International</td>\n",
       "      <td>Europe</td>\n",
       "      <td>Other</td>\n",
       "      <td>International</td>\n",
       "      <td>A</td>\n",
       "      <td>11496</td>\n",
       "      <td>NaN</td>\n",
       "    </tr>\n",
       "    <tr>\n",
       "      <th>2019-03-01</th>\n",
       "      <td>Enplaned</td>\n",
       "      <td>United Airlines</td>\n",
       "      <td>UA</td>\n",
       "      <td>United Airlines</td>\n",
       "      <td>UA</td>\n",
       "      <td>International</td>\n",
       "      <td>Middle East</td>\n",
       "      <td>Other</td>\n",
       "      <td>International</td>\n",
       "      <td>G</td>\n",
       "      <td>7473</td>\n",
       "      <td>NaN</td>\n",
       "    </tr>\n",
       "    <tr>\n",
       "      <th>2019-03-01</th>\n",
       "      <td>Deplaned</td>\n",
       "      <td>United Airlines</td>\n",
       "      <td>UA</td>\n",
       "      <td>United Airlines</td>\n",
       "      <td>UA</td>\n",
       "      <td>International</td>\n",
       "      <td>Middle East</td>\n",
       "      <td>Other</td>\n",
       "      <td>International</td>\n",
       "      <td>G</td>\n",
       "      <td>6857</td>\n",
       "      <td>NaN</td>\n",
       "    </tr>\n",
       "  </tbody>\n",
       "</table>\n",
       "</div>"
      ],
      "text/plain": [
       "           Activity Type Code Operating Airline Operating Airline IATA Code  \\\n",
       "date                                                                          \n",
       "2019-03-01           Enplaned    Japan Airlines                          JL   \n",
       "2019-03-01           Enplaned   Virgin Atlantic                          VS   \n",
       "2019-03-01           Deplaned   Virgin Atlantic                          VS   \n",
       "2019-03-01           Enplaned   United Airlines                          UA   \n",
       "2019-03-01           Deplaned   United Airlines                          UA   \n",
       "\n",
       "           Published Airline Published Airline IATA Code    GEO Summary  \\\n",
       "date                                                                      \n",
       "2019-03-01    Japan Airlines                          JL  International   \n",
       "2019-03-01   Virgin Atlantic                          VS  International   \n",
       "2019-03-01   Virgin Atlantic                          VS  International   \n",
       "2019-03-01   United Airlines                          UA  International   \n",
       "2019-03-01   United Airlines                          UA  International   \n",
       "\n",
       "             GEO Region Price Category Code       Terminal Boarding Area  \\\n",
       "date                                                                       \n",
       "2019-03-01         Asia               Other  International             A   \n",
       "2019-03-01       Europe               Other  International             A   \n",
       "2019-03-01       Europe               Other  International             A   \n",
       "2019-03-01  Middle East               Other  International             G   \n",
       "2019-03-01  Middle East               Other  International             G   \n",
       "\n",
       "            Passenger Count  diff  \n",
       "date                               \n",
       "2019-03-01             6995   NaN  \n",
       "2019-03-01            12172   NaN  \n",
       "2019-03-01            11496   NaN  \n",
       "2019-03-01             7473   NaN  \n",
       "2019-03-01             6857   NaN  "
      ]
     },
     "execution_count": 326,
     "metadata": {},
     "output_type": "execute_result"
    }
   ],
   "source": [
    "df.head()"
   ]
  },
  {
   "cell_type": "code",
   "execution_count": 327,
   "metadata": {},
   "outputs": [
    {
     "data": {
      "text/html": [
       "<div>\n",
       "<style scoped>\n",
       "    .dataframe tbody tr th:only-of-type {\n",
       "        vertical-align: middle;\n",
       "    }\n",
       "\n",
       "    .dataframe tbody tr th {\n",
       "        vertical-align: top;\n",
       "    }\n",
       "\n",
       "    .dataframe thead th {\n",
       "        text-align: right;\n",
       "    }\n",
       "</style>\n",
       "<table border=\"1\" class=\"dataframe\">\n",
       "  <thead>\n",
       "    <tr style=\"text-align: right;\">\n",
       "      <th></th>\n",
       "      <th>Passenger Count</th>\n",
       "    </tr>\n",
       "    <tr>\n",
       "      <th>date</th>\n",
       "      <th></th>\n",
       "    </tr>\n",
       "  </thead>\n",
       "  <tbody>\n",
       "    <tr>\n",
       "      <th>2006-07-31</th>\n",
       "      <td>3206302</td>\n",
       "    </tr>\n",
       "    <tr>\n",
       "      <th>2006-08-31</th>\n",
       "      <td>3122652</td>\n",
       "    </tr>\n",
       "    <tr>\n",
       "      <th>2006-09-30</th>\n",
       "      <td>2701881</td>\n",
       "    </tr>\n",
       "    <tr>\n",
       "      <th>2006-10-31</th>\n",
       "      <td>2817973</td>\n",
       "    </tr>\n",
       "    <tr>\n",
       "      <th>2006-11-30</th>\n",
       "      <td>2636337</td>\n",
       "    </tr>\n",
       "  </tbody>\n",
       "</table>\n",
       "</div>"
      ],
      "text/plain": [
       "            Passenger Count\n",
       "date                       \n",
       "2006-07-31          3206302\n",
       "2006-08-31          3122652\n",
       "2006-09-30          2701881\n",
       "2006-10-31          2817973\n",
       "2006-11-30          2636337"
      ]
     },
     "execution_count": 327,
     "metadata": {},
     "output_type": "execute_result"
    }
   ],
   "source": [
    "gb_month[12:17]"
   ]
  },
  {
   "cell_type": "markdown",
   "metadata": {},
   "source": [
    "**We see from the above that the difference did quite a good job of reducing ~3 million passengers down to differences of only a few ten thousands**"
   ]
  },
  {
   "cell_type": "code",
   "execution_count": 328,
   "metadata": {},
   "outputs": [
    {
     "data": {
      "text/plain": [
       "<matplotlib.axes._subplots.AxesSubplot at 0x1292b7748>"
      ]
     },
     "execution_count": 328,
     "metadata": {},
     "output_type": "execute_result"
    },
    {
     "data": {
      "image/png": "[encoded data removed]",
      "text/plain": [
       "<Figure size 432x288 with 1 Axes>"
      ]
     },
     "metadata": {
      "needs_background": "light"
     },
     "output_type": "display_data"
    }
   ],
   "source": [
    "gb_month.diff(periods=12).dropna().plot()"
   ]
  },
  {
   "cell_type": "code",
   "execution_count": null,
   "metadata": {},
   "outputs": [],
   "source": []
  }
 ],
 "metadata": {
  "kernelspec": {
   "display_name": "Python 3",
   "language": "python",
   "name": "python3"
  },
  "language_info": {
   "codemirror_mode": {
    "name": "ipython",
    "version": 3
   },
   "file_extension": ".py",
   "mimetype": "text/x-python",
   "name": "python",
   "nbconvert_exporter": "python",
   "pygments_lexer": "ipython3",
   "version": "3.7.3"
  }
 },
 "nbformat": 4,
 "nbformat_minor": 2
}
